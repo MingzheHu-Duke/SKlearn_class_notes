{
  "nbformat": 4,
  "nbformat_minor": 0,
  "metadata": {
    "colab": {
      "name": "classificationmetrics.ipynb",
      "provenance": [],
      "authorship_tag": "ABX9TyNZMEd9KBvKy28xZyO1f3ex",
      "include_colab_link": true
    },
    "kernelspec": {
      "name": "python3",
      "display_name": "Python 3"
    }
  },
  "cells": [
    {
      "cell_type": "markdown",
      "metadata": {
        "id": "view-in-github",
        "colab_type": "text"
      },
      "source": [
        "<a href=\"https://colab.research.google.com/github/MingzheHu-Duke/SKlearn_class_notes/blob/main/classificationmetrics.ipynb\" target=\"_parent\"><img src=\"https://colab.research.google.com/assets/colab-badge.svg\" alt=\"Open In Colab\"/></a>"
      ]
    },
    {
      "cell_type": "code",
      "metadata": {
        "id": "-QHGoEM3660w"
      },
      "source": [
        "y_true = []\r\n",
        "y_pred = []"
      ],
      "execution_count": 5,
      "outputs": []
    },
    {
      "cell_type": "code",
      "metadata": {
        "id": "c-tpZ9x37ThF"
      },
      "source": [
        "import numpy as np"
      ],
      "execution_count": 2,
      "outputs": []
    },
    {
      "cell_type": "code",
      "metadata": {
        "colab": {
          "base_uri": "https://localhost:8080/"
        },
        "id": "1dQwWej07GIC",
        "outputId": "480e3288-aa87-423c-a5d4-3d4744566425"
      },
      "source": [
        "y_true.extend(np.ones(1)+5)\r\n",
        "print(y_true)"
      ],
      "execution_count": 23,
      "outputs": [
        {
          "output_type": "stream",
          "text": [
            "[1.0, 1.0, 2.0, 2.0, 2.0, 2.0, 2.0, 2.0, 2.0, 2.0, 2.0, 2.0, 2.0, 2.0, 2.0, 2.0, 2.0, 2.0, 2.0, 2.0, 2.0, 2.0, 2.0, 2.0, 2.0, 2.0, 2.0, 2.0, 2.0, 2.0, 2.0, 2.0, 2.0, 2.0, 2.0, 2.0, 2.0, 2.0, 2.0, 2.0, 2.0, 2.0, 2.0, 2.0, 2.0, 2.0, 2.0, 2.0, 2.0, 2.0, 2.0, 2.0, 2.0, 2.0, 2.0, 2.0, 2.0, 2.0, 2.0, 2.0, 2.0, 2.0, 2.0, 2.0, 2.0, 2.0, 2.0, 2.0, 2.0, 2.0, 2.0, 2.0, 2.0, 2.0, 2.0, 2.0, 2.0, 2.0, 2.0, 2.0, 2.0, 2.0, 2.0, 2.0, 3.0, 3.0, 3.0, 3.0, 3.0, 3.0, 3.0, 3.0, 3.0, 3.0, 3.0, 3.0, 3.0, 3.0, 3.0, 3.0, 3.0, 3.0, 3.0, 3.0, 3.0, 3.0, 3.0, 3.0, 3.0, 3.0, 3.0, 3.0, 3.0, 3.0, 3.0, 3.0, 3.0, 3.0, 3.0, 3.0, 3.0, 4.0, 4.0, 4.0, 4.0, 4.0, 4.0, 4.0, 4.0, 4.0, 4.0, 4.0, 4.0, 4.0, 5.0, 6.0]\n"
          ],
          "name": "stdout"
        }
      ]
    },
    {
      "cell_type": "code",
      "metadata": {
        "colab": {
          "base_uri": "https://localhost:8080/"
        },
        "id": "tyPzgpqm7oIC",
        "outputId": "d4229617-e15d-4147-c2c5-977e17fc2f64"
      },
      "source": [
        "y_pred.extend(np.ones(1)+1)\r\n",
        "print(y_pred)"
      ],
      "execution_count": 24,
      "outputs": [
        {
          "output_type": "stream",
          "text": [
            "[2.0, 2.0, 2.0, 2.0, 2.0, 2.0, 2.0, 2.0, 2.0, 2.0, 2.0, 2.0, 2.0, 2.0, 2.0, 2.0, 2.0, 2.0, 2.0, 2.0, 2.0, 2.0, 2.0, 2.0, 2.0, 2.0, 2.0, 2.0, 2.0, 2.0, 2.0, 2.0, 2.0, 2.0, 2.0, 2.0, 2.0, 2.0, 2.0, 2.0, 2.0, 2.0, 2.0, 2.0, 2.0, 2.0, 2.0, 2.0, 2.0, 2.0, 2.0, 2.0, 2.0, 2.0, 2.0, 2.0, 2.0, 2.0, 2.0, 2.0, 2.0, 2.0, 2.0, 2.0, 2.0, 2.0, 2.0, 2.0, 2.0, 2.0, 2.0, 2.0, 2.0, 2.0, 2.0, 2.0, 2.0, 3.0, 3.0, 4.0, 4.0, 5.0, 5.0, 7.0, 2.0, 2.0, 2.0, 2.0, 2.0, 2.0, 2.0, 2.0, 2.0, 2.0, 2.0, 2.0, 2.0, 2.0, 2.0, 2.0, 3.0, 3.0, 3.0, 3.0, 3.0, 3.0, 3.0, 3.0, 3.0, 3.0, 3.0, 3.0, 3.0, 3.0, 3.0, 3.0, 3.0, 3.0, 3.0, 3.0, 4.0, 2.0, 2.0, 2.0, 2.0, 2.0, 2.0, 2.0, 2.0, 2.0, 4.0, 4.0, 4.0, 4.0, 5.0, 2.0]\n"
          ],
          "name": "stdout"
        }
      ]
    },
    {
      "cell_type": "code",
      "metadata": {
        "colab": {
          "base_uri": "https://localhost:8080/"
        },
        "id": "VnWw5YmB9Eoo",
        "outputId": "1bddddab-5772-4ee4-f05b-de07286ca04d"
      },
      "source": [
        "from sklearn.metrics import precision_score, recall_score, \r\n",
        "precision_score(y_true, y_pred, average=None)"
      ],
      "execution_count": 28,
      "outputs": [
        {
          "output_type": "stream",
          "text": [
            "/usr/local/lib/python3.7/dist-packages/sklearn/metrics/_classification.py:1272: UndefinedMetricWarning: Precision is ill-defined and being set to 0.0 in labels with no predicted samples. Use `zero_division` parameter to control this behavior.\n",
            "  _warn_prf(average, modifier, msg_start, len(result))\n"
          ],
          "name": "stderr"
        },
        {
          "output_type": "execute_result",
          "data": {
            "text/plain": [
              "array([0.        , 0.72815534, 0.90909091, 0.57142857, 0.33333333,\n",
              "       0.        , 0.        ])"
            ]
          },
          "metadata": {
            "tags": []
          },
          "execution_count": 28
        }
      ]
    },
    {
      "cell_type": "code",
      "metadata": {
        "colab": {
          "base_uri": "https://localhost:8080/",
          "height": 265
        },
        "id": "qbV17dfxGHQW",
        "outputId": "baa34ef8-c067-4ea9-c808-ce4b4c3e624c"
      },
      "source": [
        "import numpy as np\r\n",
        "import matplotlib.pyplot as plt\r\n",
        "from sklearn import svm, datasets\r\n",
        "from sklearn.model_selection import train_test_split\r\n",
        "from sklearn.metrics import plot_confusion_matrix\r\n",
        "from sklearn.metrics import confusion_matrix\r\n",
        "# import some data to play with\r\n",
        "iris = datasets.load_iris()\r\n",
        "X = iris.data\r\n",
        "y = iris.target\r\n",
        "class_names = iris.target_names\r\n",
        "labels, counts = np.unique(y, return_counts=True)\r\n",
        "plt.bar(labels, counts, align='center')\r\n",
        "plt.gca().set_xticks(labels)\r\n",
        "plt.show()"
      ],
      "execution_count": 29,
      "outputs": [
        {
          "output_type": "display_data",
          "data": {
            "image/png": "[encoded data removed]",
            "text/plain": [
              "<Figure size 432x288 with 1 Axes>"
            ]
          },
          "metadata": {
            "tags": [],
            "needs_background": "light"
          }
        }
      ]
    },
    {
      "cell_type": "code",
      "metadata": {
        "id": "N1LkGiQ_GIfi"
      },
      "source": [
        "# Split the data into a training set and a test set\r\n",
        "X_train, X_test, y_train, y_test = train_test_split(X, y, random_state=0)"
      ],
      "execution_count": 31,
      "outputs": []
    },
    {
      "cell_type": "code",
      "metadata": {
        "id": "b06F2XVzGL3C"
      },
      "source": [
        "# Fit the classifier\r\n",
        "classifier = svm.SVC(kernel='linear').fit(X_train, y_train)"
      ],
      "execution_count": 32,
      "outputs": []
    },
    {
      "cell_type": "code",
      "metadata": {
        "colab": {
          "base_uri": "https://localhost:8080/"
        },
        "id": "1N8TDxFsGTiC",
        "outputId": "e1874802-c66f-4da4-b1ed-d8a3cb19e480"
      },
      "source": [
        "# Predict the labels of the test set samples\r\n",
        "# predicted_labels = classifier.predict(X_test)\r\n",
        "# Build the confusion matrix of our 3-class classification problem\r\n",
        "cnf_matrix = confusion_matrix(y_true, y_pred)\r\n",
        "print(cnf_matrix)\r\n",
        "print(type(cnf_matrix))\r\n",
        "#array([[13,  0,  0],\r\n",
        "#       [ 0, 15,  1],\r\n",
        "#       [ 0,  0,  9]])"
      ],
      "execution_count": 37,
      "outputs": [
        {
          "output_type": "stream",
          "text": [
            "[[ 0  2  0  0  0  0  0]\n",
            " [ 0 75  2  2  2  0  1]\n",
            " [ 0 16 20  1  0  0  0]\n",
            " [ 0  9  0  4  0  0  0]\n",
            " [ 0  0  0  0  1  0  0]\n",
            " [ 0  1  0  0  0  0  0]\n",
            " [ 0  0  0  0  0  0  0]]\n",
            "<class 'numpy.ndarray'>\n"
          ],
          "name": "stdout"
        }
      ]
    },
    {
      "cell_type": "code",
      "metadata": {
        "colab": {
          "base_uri": "https://localhost:8080/"
        },
        "id": "yTKJsMQbJN5w",
        "outputId": "aeade1f2-af45-4daf-bc57-c418b6d99781"
      },
      "source": [
        "cnf_matrix = np.array([[5, 0, 0, 1, 3, 0, 1],\r\n",
        "                       [0, 7, 0, 3, 2, 0, 2],\r\n",
        "                       [0, 0, 7, 1, 3, 0, 0],\r\n",
        "                       [0, 1, 0, 18, 1, 2, 0],\r\n",
        "                       [0, 0, 0, 4, 23, 3, 0],\r\n",
        "                       [0, 0, 0, 0, 0, 5, 0],\r\n",
        "                       [0, 1, 0, 2, 0, 0, 14]])\r\n",
        "print(cnf_matrix)"
      ],
      "execution_count": 50,
      "outputs": [
        {
          "output_type": "stream",
          "text": [
            "[[ 5  0  0  1  3  0  1]\n",
            " [ 0  7  0  3  2  0  2]\n",
            " [ 0  0  7  1  3  0  0]\n",
            " [ 0  1  0 18  1  2  0]\n",
            " [ 0  0  0  4 23  3  0]\n",
            " [ 0  0  0  0  0  5  0]\n",
            " [ 0  1  0  2  0  0 14]]\n"
          ],
          "name": "stdout"
        }
      ]
    },
    {
      "cell_type": "code",
      "metadata": {
        "id": "AF-KBTStGWyC"
      },
      "source": [
        "FP = cnf_matrix.sum(axis=0) - np.diag(cnf_matrix) \r\n",
        "FN = cnf_matrix.sum(axis=1) - np.diag(cnf_matrix)\r\n",
        "TP = np.diag(cnf_matrix)\r\n",
        "TN = cnf_matrix.sum() - (FP + FN + TP)\r\n",
        "FP = FP.astype(float)\r\n",
        "FN = FN.astype(float)\r\n",
        "TP = TP.astype(float)\r\n",
        "TN = TN.astype(float)\r\n",
        "# Sensitivity, hit rate, recall, or true positive rate\r\n",
        "TPR = TP/(TP+FN)\r\n",
        "# Specificity or true negative rate\r\n",
        "TNR = TN/(TN+FP) \r\n",
        "# Precision or positive predictive value\r\n",
        "PPV = TP/(TP+FP)\r\n",
        "# Negative predictive value\r\n",
        "NPV = TN/(TN+FN)\r\n",
        "# Fall out or false positive rate\r\n",
        "FPR = FP/(FP+TN)\r\n",
        "# False negative rate\r\n",
        "FNR = FN/(TP+FN)\r\n",
        "# False discovery rate\r\n",
        "FDR = FP/(TP+FP)\r\n",
        "# Overall accuracy for each class\r\n",
        "ACC = (TP+TN)/(TP+FP+FN+TN)"
      ],
      "execution_count": 51,
      "outputs": []
    },
    {
      "cell_type": "code",
      "metadata": {
        "colab": {
          "base_uri": "https://localhost:8080/"
        },
        "id": "MtMGM2AKGcBW",
        "outputId": "54f3971a-648e-4e11-8812-f80a62120b5c"
      },
      "source": [
        "print(TPR)"
      ],
      "execution_count": 52,
      "outputs": [
        {
          "output_type": "stream",
          "text": [
            "[0.5        0.5        0.63636364 0.81818182 0.76666667 1.\n",
            " 0.82352941]\n"
          ],
          "name": "stdout"
        }
      ]
    },
    {
      "cell_type": "code",
      "metadata": {
        "colab": {
          "base_uri": "https://localhost:8080/"
        },
        "id": "IH9U9KvhHX3i",
        "outputId": "2d123a40-b490-41ad-99d4-e652b3305ce7"
      },
      "source": [
        "print(FNR)"
      ],
      "execution_count": 53,
      "outputs": [
        {
          "output_type": "stream",
          "text": [
            "[0.5        0.5        0.36363636 0.18181818 0.23333333 0.\n",
            " 0.17647059]\n"
          ],
          "name": "stdout"
        }
      ]
    },
    {
      "cell_type": "code",
      "metadata": {
        "colab": {
          "base_uri": "https://localhost:8080/"
        },
        "id": "-AJRU_QJKafF",
        "outputId": "3f6c15a9-43a4-4a4e-9eec-ac52d9f68f73"
      },
      "source": [
        "print(TNR)"
      ],
      "execution_count": 54,
      "outputs": [
        {
          "output_type": "stream",
          "text": [
            "[1.         0.97894737 1.         0.87356322 0.88607595 0.95192308\n",
            " 0.9673913 ]\n"
          ],
          "name": "stdout"
        }
      ]
    },
    {
      "cell_type": "code",
      "metadata": {
        "colab": {
          "base_uri": "https://localhost:8080/"
        },
        "id": "98HVftEiUVO2",
        "outputId": "f07f95e7-2022-443d-c5fe-67622a2700c8"
      },
      "source": [
        "(0.5*10 + 0.5*14 + 0.36*11 + 0.18*22 + 0.23*30 + 0*5 + 0.18*17) / (10 + 14 + 11 + 22 + 30 + 5 + 17)"
      ],
      "execution_count": 65,
      "outputs": [
        {
          "output_type": "execute_result",
          "data": {
            "text/plain": [
              "0.2741284403669725"
            ]
          },
          "metadata": {
            "tags": []
          },
          "execution_count": 65
        }
      ]
    },
    {
      "cell_type": "code",
      "metadata": {
        "colab": {
          "base_uri": "https://localhost:8080/"
        },
        "id": "NkhjKTrKfEDC",
        "outputId": "fc3fae29-d6ed-47bd-d15d-ee152076a67d"
      },
      "source": [
        "# Get CIs following https://machinelearningmastery.com/report-classifier-performance-confidence-intervals/\r\n",
        "# Wilson score interval\r\n",
        "import numpy as np\r\n",
        "def get_CI(metric):\r\n",
        "    one_side = 1.96 * np.sqrt(metric*(1-metric)/933)\r\n",
        "    return metric + one_side, metric - one_side\r\n",
        "\r\n",
        "acc = 0.723\r\n",
        "recall = 0.72\r\n",
        "specificity = 0.93\r\n",
        "precision = 0.77\r\n",
        "F1 = 0.72\r\n",
        "fnr = 0.27\r\n",
        "# auc = 0.8104268351524446\r\n",
        "\r\n",
        "upper_acc, lower_acc = get_CI(acc)\r\n",
        "upper_recall, lower_recall = get_CI(recall)\r\n",
        "upper_specificity, lower_specificity = get_CI(specificity)\r\n",
        "upper_F1, lower_F1 = get_CI(F1)\r\n",
        "# upper_auc, lower_auc = get_CI(auc)\r\n",
        "upper_precision, lower_precision = get_CI(precision)\r\n",
        "upper_fnr, lower_fnr = get_CI(fnr)\r\n",
        "\r\n",
        "print(\"ACC: %.2f ~ (%.2f, %.2f)\" %(acc*100, lower_acc*100, upper_acc*100))\r\n",
        "print(\"FNR: %.2f ~ (%.2f, %.2f)\" %(100-recall*100, 100-upper_recall*100, 100-lower_recall*100))\r\n",
        "print(\"RECALL: %.2f ~ (%.2f, %.2f)\" %(recall*100, lower_recall*100, upper_recall*100))\r\n",
        "print(\"SPEICIFICITY: %.2f ~ (%.2f, %.2f)\" %(specificity*100, lower_specificity*100, upper_specificity*100))\r\n",
        "print(\"F1: %.2f ~ (%.2f, %.2f)\" %(F1*100, lower_F1*100, upper_F1*100))\r\n",
        "# print(\"auc: %.2f ~ (%.2f, %.2f)\" %(auc*100, lower_auc*100, upper_auc*100))\r\n",
        "print(\"precision: %.2f ~ (%.2f, %.2f)\" %(precision*100, lower_precision*100, upper_precision*100))\r\n",
        "print(\"FNR: %.2f ~ (%.2f, %.2f)\" %(fnr*100, lower_fnr*100, upper_fnr*100))"
      ],
      "execution_count": 70,
      "outputs": [
        {
          "output_type": "stream",
          "text": [
            "ACC: 72.30 ~ (69.43, 75.17)\n",
            "FNR: 28.00 ~ (25.12, 30.88)\n",
            "RECALL: 72.00 ~ (69.12, 74.88)\n",
            "SPEICIFICITY: 93.00 ~ (91.36, 94.64)\n",
            "F1: 72.00 ~ (69.12, 74.88)\n",
            "precision: 77.00 ~ (74.30, 79.70)\n",
            "FNR: 27.00 ~ (24.15, 29.85)\n"
          ],
          "name": "stdout"
        }
      ]
    }
  ]
}